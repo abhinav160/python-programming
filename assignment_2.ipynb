{
  "nbformat": 4,
  "nbformat_minor": 0,
  "metadata": {
    "colab": {
      "provenance": [],
      "authorship_tag": "ABX9TyMmCne25L1Q4hs4KEQ6sd0K",
      "include_colab_link": true
    },
    "kernelspec": {
      "name": "python3",
      "display_name": "Python 3"
    },
    "language_info": {
      "name": "python"
    }
  },
  "cells": [
    {
      "cell_type": "markdown",
      "metadata": {
        "id": "view-in-github",
        "colab_type": "text"
      },
      "source": [
        "<a href=\"https://colab.research.google.com/github/abhinav160/python-programming/blob/main/assignment_2.ipynb\" target=\"_parent\"><img src=\"https://colab.research.google.com/assets/colab-badge.svg\" alt=\"Open In Colab\"/></a>"
      ]
    },
    {
      "cell_type": "code",
      "execution_count": 1,
      "metadata": {
        "colab": {
          "base_uri": "https://localhost:8080/"
        },
        "id": "wTXfU_uWNE90",
        "outputId": "d067f2f6-d20e-4aa0-b972-2f0cb98976a3"
      },
      "outputs": [
        {
          "output_type": "stream",
          "name": "stdout",
          "text": [
            "Hello Alice\n",
            "Good Morning Bob\n"
          ]
        }
      ],
      "source": [
        "#Write a function greet that takes two arguments: name (a string) and greeting (a string with a default value of \"Hello\"). The function should return a greeting message.\n",
        "def greet(name, greeting=\"Hello\"):\n",
        "    return f\"{greeting} {name}\"\n",
        "\n",
        "print(greet(\"Alice\"))\n",
        "print(greet(\"Bob\", \"Good Morning\"))"
      ]
    },
    {
      "cell_type": "code",
      "source": [
        "#Create a function create_profile that takes arguments for name, age, and city as named arguments. The function should return a string like \"Name: Alice, Age: 25, City: New York\". Ensure that the age argument has a default value of 18.\n",
        "def create_profile(name, city, age=18):\n",
        "    return f\"Name: {name}, Age: {age}, City: {city}\"\n",
        "\n",
        "print(create_profile(name=\"John\", city=\"Chicago\"))\n",
        "print(create_profile(name=\"Emma\", age=22, city=\"Los Angeles\"))"
      ],
      "metadata": {
        "colab": {
          "base_uri": "https://localhost:8080/"
        },
        "id": "gWFuZWZ0NKLs",
        "outputId": "aa29dd0a-76d7-4e98-d53a-0d3fcb32b574"
      },
      "execution_count": 2,
      "outputs": [
        {
          "output_type": "stream",
          "name": "stdout",
          "text": [
            "Name: John, Age: 18, City: Chicago\n",
            "Name: Emma, Age: 22, City: Los Angeles\n"
          ]
        }
      ]
    },
    {
      "cell_type": "code",
      "source": [
        "#Write a function sum_numbers that takes any number of positional arguments (args) and keyword arguments (*kwargs). It should:\n",
        "def sum_numbers(*args, **kwargs):\n",
        "    sum_args = sum(arg for arg in args if isinstance(arg, (int, float)))\n",
        "    return (sum_args, kwargs) if kwargs else sum_args\n",
        "\n",
        "print(sum_numbers(1, 2, 3))\n",
        "print(sum_numbers(1, 2, x=4, y=5))\n"
      ],
      "metadata": {
        "colab": {
          "base_uri": "https://localhost:8080/"
        },
        "id": "JCHlak-ONPA0",
        "outputId": "5fb86c0b-1dd4-496f-b654-b7f8d9591317"
      },
      "execution_count": 3,
      "outputs": [
        {
          "output_type": "stream",
          "name": "stdout",
          "text": [
            "6\n",
            "(3, {'x': 4, 'y': 5})\n"
          ]
        }
      ]
    },
    {
      "cell_type": "code",
      "source": [
        "\n",
        "#Write a function that uses map and a lambda to return a list where each element is squared.\n",
        "def square_list(numbers):\n",
        "    return list(map(lambda x: x**2, numbers))\n",
        "\n",
        "print(square_list([1, 2, 3, 4]))\n"
      ],
      "metadata": {
        "colab": {
          "base_uri": "https://localhost:8080/"
        },
        "id": "FCDUYoexNR1c",
        "outputId": "9a5906d7-2861-4a45-b202-84a9ed5af7ac"
      },
      "execution_count": 4,
      "outputs": [
        {
          "output_type": "stream",
          "name": "stdout",
          "text": [
            "[1, 4, 9, 16]\n"
          ]
        }
      ]
    },
    {
      "cell_type": "code",
      "source": [
        "\n",
        "#Filter and Lambdas\n",
        "def filter_odd_numbers(numbers):\n",
        "    return list(filter(lambda x: x % 2 == 0, numbers))\n",
        "\n",
        "print(filter_odd_numbers([1, 2, 3, 4, 5]))\n"
      ],
      "metadata": {
        "colab": {
          "base_uri": "https://localhost:8080/"
        },
        "id": "b-MJtqMxNVO2",
        "outputId": "b1fcdbe9-c8e2-4b52-84e0-d0b8f5b07bdb"
      },
      "execution_count": 5,
      "outputs": [
        {
          "output_type": "stream",
          "name": "stdout",
          "text": [
            "[2, 4]\n"
          ]
        }
      ]
    },
    {
      "cell_type": "code",
      "source": [
        "#Basic List Comprehension\n",
        "squares = [x**2 for x in range(5)]\n",
        "print(squares)"
      ],
      "metadata": {
        "colab": {
          "base_uri": "https://localhost:8080/"
        },
        "id": "B51x5v77NZWW",
        "outputId": "a5f9661c-b3c9-467d-a1f8-0f5fe3b57ad9"
      },
      "execution_count": 6,
      "outputs": [
        {
          "output_type": "stream",
          "name": "stdout",
          "text": [
            "[0, 1, 4, 9, 16]\n"
          ]
        }
      ]
    },
    {
      "cell_type": "code",
      "source": [
        "#List Comprehension with Condition\n",
        "even_numbers = [x for x in range(1, 21) if x % 2 == 0]\n",
        "print(even_numbers)"
      ],
      "metadata": {
        "colab": {
          "base_uri": "https://localhost:8080/"
        },
        "id": "xeP6rD7TNcQ3",
        "outputId": "a343ab4c-dc97-497f-89ad-9ff572097929"
      },
      "execution_count": 7,
      "outputs": [
        {
          "output_type": "stream",
          "name": "stdout",
          "text": [
            "[2, 4, 6, 8, 10, 12, 14, 16, 18, 20]\n"
          ]
        }
      ]
    },
    {
      "cell_type": "code",
      "source": [
        "\n",
        "#Using os and time Modules:\n",
        "import os\n",
        "import time\n",
        "\n",
        "def file_operations():\n",
        "    os.makedirs(\"test_folder\", exist_ok=True)\n",
        "    print(\"Created 'test_folder'\")\n",
        "\n",
        "    print(\"Pausing for 3 seconds...\")\n",
        "    time.sleep(3)\n",
        "\n",
        "    os.rmdir(\"test_folder\")\n",
        "    print(\"Deleted 'test_folder'\")\n",
        "\n",
        "file_operations()\n",
        "\n"
      ],
      "metadata": {
        "colab": {
          "base_uri": "https://localhost:8080/"
        },
        "id": "RLJa9HvANfy9",
        "outputId": "0ea42346-f13c-4d8f-faf5-a292722c5ad7"
      },
      "execution_count": 8,
      "outputs": [
        {
          "output_type": "stream",
          "name": "stdout",
          "text": [
            "Created 'test_folder'\n",
            "Pausing for 3 seconds...\n",
            "Deleted 'test_folder'\n"
          ]
        }
      ]
    },
    {
      "cell_type": "code",
      "source": [
        "#Importing Specific Functions:\n",
        "from time import sleep as pause\n",
        "\n",
        "pause(2)\n",
        "print(\"Paused execution...\")"
      ],
      "metadata": {
        "colab": {
          "base_uri": "https://localhost:8080/"
        },
        "id": "845CiKdNNow8",
        "outputId": "e72f2200-3825-49fe-c009-720a78b6e2a3"
      },
      "execution_count": 9,
      "outputs": [
        {
          "output_type": "stream",
          "name": "stdout",
          "text": [
            "Paused execution...\n"
          ]
        }
      ]
    },
    {
      "cell_type": "code",
      "source": [
        "#Recursive Function with *args and **kwargs (Flattening a List):\n",
        "def flatten_list(*args):\n",
        "    flat_list = []\n",
        "    for arg in args:\n",
        "        if isinstance(arg, (list, tuple)):\n",
        "            flat_list.extend(flatten_list(*arg))\n",
        "        else:\n",
        "            flat_list.append(arg)\n",
        "    return flat_list\n",
        "\n",
        "print(flatten_list([1, [2, 3], [[4, 5], 6]]))\n",
        "print(flatten_list([[1, 2], [3, [4, [5]]]]))"
      ],
      "metadata": {
        "colab": {
          "base_uri": "https://localhost:8080/"
        },
        "id": "K1dFUevuNsiC",
        "outputId": "7e6fc294-0857-4625-d05e-6c5b9dbf49cc"
      },
      "execution_count": 10,
      "outputs": [
        {
          "output_type": "stream",
          "name": "stdout",
          "text": [
            "[1, 2, 3, 4, 5, 6]\n",
            "[1, 2, 3, 4, 5]\n"
          ]
        }
      ]
    }
  ]
}