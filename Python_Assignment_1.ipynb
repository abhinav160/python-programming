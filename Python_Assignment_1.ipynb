{
  "nbformat": 4,
  "nbformat_minor": 0,
  "metadata": {
    "colab": {
      "provenance": [],
      "authorship_tag": "ABX9TyM5kinMyy6w7zYlNQMJEvnT",
      "include_colab_link": true
    },
    "kernelspec": {
      "name": "python3",
      "display_name": "Python 3"
    },
    "language_info": {
      "name": "python"
    }
  },
  "cells": [
    {
      "cell_type": "markdown",
      "metadata": {
        "id": "view-in-github",
        "colab_type": "text"
      },
      "source": [
        "<a href=\"https://colab.research.google.com/github/abhinav160/python-programming/blob/main/Python_Assignment_1.ipynb\" target=\"_parent\"><img src=\"https://colab.research.google.com/assets/colab-badge.svg\" alt=\"Open In Colab\"/></a>"
      ]
    },
    {
      "cell_type": "code",
      "execution_count": null,
      "metadata": {
        "colab": {
          "base_uri": "https://localhost:8080/"
        },
        "id": "rxr_Ixn_2WuU",
        "outputId": "87f27b97-d0cc-4ccd-a03e-81b6b88ec4ae"
      },
      "outputs": [
        {
          "output_type": "stream",
          "name": "stdout",
          "text": [
            "Enter your First Name abhinav\n",
            "Enter your Last Name kishore\n",
            "Kishore Abhinav\n"
          ]
        }
      ],
      "source": [
        "#taking inputs from user as first and last name\n",
        "first_name = (input(\"Enter your First Name \"))\n",
        "last_name = (input(\"Enter your Last Name \"))\n",
        "#using string methods\n",
        "#capitalize()is used for capitalizing the first letter of string\n",
        "#strip() is used for removing the trial spaces\n",
        "\n",
        "first_name = first_name.capitalize()\n",
        "last_name = last_name.capitalize()\n",
        "print(last_name +\" \"+ first_name)"
      ]
    },
    {
      "cell_type": "code",
      "source": [
        "#convert a float first to handle decimal part\n",
        "#taking inputs from user\n",
        "user_input = input(\"Enter a number:\")\n",
        "\n",
        "#converting the input to the different numeric data types\n",
        "#int() converts the input to an integer\n",
        "\n",
        "int_value = int(float(user_input))\n",
        "#convert a float first to handle decimal part\n",
        "float_value = float(user_input)\n",
        "#complex() converts the input to a complex number\n",
        "complex_value = complex(user_input)\n",
        "#displaying the converted values\n",
        "print(f\"Integer value:{int_value}\")\n",
        "print(f\"Float value: {float_value}\")\n",
        "print(f\"Complex value :{complex_value}\")"
      ],
      "metadata": {
        "colab": {
          "base_uri": "https://localhost:8080/"
        },
        "id": "bV-IzYR32oU5",
        "outputId": "8bb9c5aa-1e51-4bff-b26f-665c2d300d35"
      },
      "execution_count": null,
      "outputs": [
        {
          "output_type": "stream",
          "name": "stdout",
          "text": [
            "Enter a number:25\n",
            "Integer value:25\n",
            "Float value: 25.0\n",
            "Complex value :(25+0j)\n"
          ]
        }
      ]
    },
    {
      "cell_type": "code",
      "source": [
        "#taking inputs from user\n",
        "length=  int(input(\" Enter the length of rectangle: \"))\n",
        "breadth=  int(input(\" Enter the breadth of rectangle: \"))\n",
        "# calculating the area of rectangle\n",
        "area = length * breadth\n",
        "print (f\"the area of rectangle is :{area}\")"
      ],
      "metadata": {
        "colab": {
          "base_uri": "https://localhost:8080/"
        },
        "id": "a7USZ06Z20xn",
        "outputId": "8f0ca1da-ad32-4f21-a842-41f1441877cf"
      },
      "execution_count": null,
      "outputs": [
        {
          "output_type": "stream",
          "name": "stdout",
          "text": [
            " Enter the length of rectangle: 6\n",
            " Enter the breadth of rectangle: 3\n",
            "the area of rectangle is :18\n"
          ]
        }
      ]
    },
    {
      "cell_type": "code",
      "source": [
        "# Prompt the user to enter the length and width of the rectangle\n",
        "length = int(input(\"Enter the length of the rectangle: \"))\n",
        "width = int(input(\"Enter the width of the rectangle: \"))\n",
        "\n",
        "# Calculate the area of the rectangle\n",
        "area = length * width\n",
        "\n",
        "# Display the result using the format method to show two decimal places\n",
        "print(\"The area of the rectangle is: {:.2f} square units\".format(area))"
      ],
      "metadata": {
        "colab": {
          "base_uri": "https://localhost:8080/"
        },
        "id": "MAwnEKV925H6",
        "outputId": "143ccc3c-7a1a-464f-b4bf-61989c3f5b64"
      },
      "execution_count": null,
      "outputs": [
        {
          "output_type": "stream",
          "name": "stdout",
          "text": [
            "Enter the length of the rectangle: 8\n",
            "Enter the width of the rectangle: 13\n",
            "The area of the rectangle is: 104.00 square units\n"
          ]
        }
      ]
    },
    {
      "cell_type": "code",
      "source": [
        "#taking inputs from user\n",
        "num1= int (input(\"enter the number\"))\n",
        "num2 = int (input(\"enter the number\"))\n",
        "num3 = int(input(\"enter the number\"))\n",
        "#taking average of the number\n",
        "average= num1+num2+num3/3\n",
        "print(\"the average of three numbers are:\", average)"
      ],
      "metadata": {
        "colab": {
          "base_uri": "https://localhost:8080/"
        },
        "id": "xeA8YtED3F61",
        "outputId": "e6338c4e-2586-4b15-801c-18bd86da840a"
      },
      "execution_count": null,
      "outputs": [
        {
          "output_type": "stream",
          "name": "stdout",
          "text": [
            "enter the number32\n",
            "enter the number13\n",
            "enter the number55\n",
            "the average of three numbers are: 63.33333333333333\n"
          ]
        }
      ]
    },
    {
      "cell_type": "code",
      "source": [
        "while True:\n",
        "    # Prompt the user for input\n",
        "    user_input = input(\"Enter a number (or type 'exit' to quit): \").lower()\n",
        "\n",
        "    # Check if the user wants to exit\n",
        "    if user_input == 'exit':\n",
        "        print(\"Exiting the program.\")\n",
        "        break  # Exit the loop if the input is 'exit'\n",
        "\n",
        "    try:\n",
        "        # Convert the input to a float for numeric comparison\n",
        "        number = float(user_input)\n",
        "\n",
        "        # Check if the number is positive, negative, or zero\n",
        "        if number > 0:\n",
        "            print(\"The number is positive.\")\n",
        "        elif number < 0:\n",
        "            print(\"The number is negative.\")\n",
        "        else:\n",
        "            print(\"The number is zero.\")\n",
        "    except ValueError:\n",
        "        # Handle cases where the input is not a valid number\n",
        "        print(\"Please enter a valid number.\")"
      ],
      "metadata": {
        "colab": {
          "base_uri": "https://localhost:8080/"
        },
        "id": "-lHjIjaN3KBO",
        "outputId": "ff6da299-8261-4544-ae54-f564f749a6e6"
      },
      "execution_count": null,
      "outputs": [
        {
          "output_type": "stream",
          "name": "stdout",
          "text": [
            "Enter a number (or type 'exit' to quit): 5\n",
            "The number is positive.\n",
            "Enter a number (or type 'exit' to quit): -3\n",
            "The number is negative.\n",
            "Enter a number (or type 'exit' to quit): exit\n",
            "Exiting the program.\n"
          ]
        }
      ]
    },
    {
      "cell_type": "code",
      "source": [
        "# Taking two numbers as input from the user\n",
        "num1 = int(input(\"Enter the first number: \"))\n",
        "num2 = int(input(\"Enter the second number: \"))\n",
        "\n",
        "# Checking whether both numbers are even\n",
        "if num1 % 2 == 0 and num2 % 2 == 0:\n",
        "    print(\"Both numbers are even.\")\n",
        "# Checking whether both numbers are odd\n",
        "elif num1 % 2 != 0 and num2 % 2 != 0:\n",
        "    print(\"Both numbers are odd.\")\n",
        "# If neither of the above conditions are true, one number is even and the other is odd\n",
        "else:\n",
        "    print(\"One number is even and the other is odd.\")"
      ],
      "metadata": {
        "colab": {
          "base_uri": "https://localhost:8080/"
        },
        "id": "DH-myro43Vb1",
        "outputId": "f9e0f203-7507-47fa-a7e8-594b6ffbe098"
      },
      "execution_count": null,
      "outputs": [
        {
          "output_type": "stream",
          "name": "stdout",
          "text": [
            "Enter the first number: 25\n",
            "Enter the second number: 8\n",
            "One number is even and the other is odd.\n"
          ]
        }
      ]
    },
    {
      "cell_type": "code",
      "source": [
        "# Taking an integer input from the user\n",
        "num = int(input(\"Enter an integer: \"))\n",
        "\n",
        "# Dictionary to store the conversions\n",
        "conversions = {\"Binary\": bin(num), \"Octal\": oct(num), \"Hexadecimal\": hex(num)}\n",
        "\n",
        "# For loop to iterate over the dictionary and print results\n",
        "for base, value in conversions.items():\n",
        "    print(f\"{base} equivalent: {value[2:].upper()}\")\n",
        "# Remove '0b', '0o', '0x' prefix and convert to uppercase for hex"
      ],
      "metadata": {
        "id": "zs5Leeex3aM3",
        "outputId": "6237595a-5d5a-408a-dad9-0787634177fc",
        "colab": {
          "base_uri": "https://localhost:8080/"
        }
      },
      "execution_count": null,
      "outputs": [
        {
          "output_type": "stream",
          "name": "stdout",
          "text": [
            "Enter an integer: 35\n",
            "Binary equivalent: 100011\n",
            "Octal equivalent: 43\n",
            "Hexadecimal equivalent: 23\n"
          ]
        }
      ]
    }
  ]
}